{
 "cells": [
  {
   "cell_type": "code",
   "execution_count": 1,
   "metadata": {},
   "outputs": [],
   "source": [
    "import hashlib\n",
    "import itertools\n",
    "\n",
    "from Crypto.Cipher import AES\n",
    "from tqdm import tqdm"
   ]
  },
  {
   "cell_type": "code",
   "execution_count": 2,
   "metadata": {},
   "outputs": [],
   "source": [
    "def xor(var, key):\n",
    "    key, var = key[: len(var)], var[: len(key)]\n",
    "    int_var = int.from_bytes(var, \"little\")\n",
    "    int_key = int.from_bytes(key, \"little\")\n",
    "    int_enc = int_var ^ int_key\n",
    "    return int_enc.to_bytes(len(var), \"little\")\n",
    "\n",
    "\n",
    "# Generate `arr` of 20 hashes\n",
    "arr = [hashlib.sha256(b\"PALINDROME IS THE BEST!\").digest()]\n",
    "for i in range(1, 20):\n",
    "    arr.append(hashlib.sha256(arr[i - 1]).digest())"
   ]
  },
  {
   "cell_type": "code",
   "execution_count": 3,
   "metadata": {},
   "outputs": [
    {
     "name": "stdout",
     "output_type": "stream",
     "text": [
      "1048576\n"
     ]
    }
   ],
   "source": [
    "# Function to generate key based on a given list of indices of hashes in `arr` to use\n",
    "def gen_key(counters, key=b\"\\x00\" * 32):\n",
    "    for i in counters:\n",
    "        key = xor(key, arr[i])\n",
    "    return key\n",
    "\n",
    "\n",
    "# Generate all possible keys\n",
    "keys = []\n",
    "for i in range(21):\n",
    "    for x in itertools.combinations(list(range(0, 20)), i):\n",
    "        keys.append(gen_key(x))\n",
    "\n",
    "print(len(keys))"
   ]
  },
  {
   "cell_type": "code",
   "execution_count": 4,
   "metadata": {},
   "outputs": [
    {
     "name": "stderr",
     "output_type": "stream",
     "text": [
      " 27%|██▋       | 284167/1048576 [00:35<01:35, 8033.25it/s]"
     ]
    },
    {
     "name": "stdout",
     "output_type": "stream",
     "text": [
      "TISC{K3ysP4ce_1s_t00_smol_d2g7d97agsd8yhr}\n"
     ]
    },
    {
     "name": "stderr",
     "output_type": "stream",
     "text": [
      "\n"
     ]
    }
   ],
   "source": [
    "# Function to check if a key is valid by attempted to decrypt ciphertext with given key\n",
    "def check_key(key):\n",
    "    cipher = AES.new(key, AES.MODE_GCM, b\"PALINDROME ROCKS\")  # nonce\n",
    "    cipher.update(b\"welcome_message\")\n",
    "    try:\n",
    "        dec = cipher.decrypt_and_verify(\n",
    "            b\"\\xad\\xac\\x81\\x20\\xc6\\xd5\\xb1\\xb8\\x3a\\x2a\\xa8\\x54\\xe6\\x5f\\x9a\\xad\\xa4\\x39\\x05\\xd9\\x21\\xae\\xab\\x50\\x98\\xbd\\xe4\\xc8\\xe8\\x2a\\x3c\\x63\\x82\\xe3\\x8e\\x5d\\x79\\xf0\\xc6\\xf4\\xf2\\xe7\",\n",
    "            b\"\\xbd\\xfc\\xc0\\xdb\\xd9\\x09\\xed\\x66\\x37\\x34\\x75\\x11\\x75\\xa2\\x7a\\xaf\",\n",
    "        )  # ciphertext, tag\n",
    "        print(dec.decode())\n",
    "        return dec\n",
    "    except ValueError:\n",
    "        return False\n",
    "\n",
    "\n",
    "# Check all keys\n",
    "for key in tqdm(keys):\n",
    "    if check_key(key):\n",
    "        break"
   ]
  }
 ],
 "metadata": {
  "kernelspec": {
   "display_name": "ctf",
   "language": "python",
   "name": "python3"
  },
  "language_info": {
   "codemirror_mode": {
    "name": "ipython",
    "version": 3
   },
   "file_extension": ".py",
   "mimetype": "text/x-python",
   "name": "python",
   "nbconvert_exporter": "python",
   "pygments_lexer": "ipython3",
   "version": "3.10.11"
  },
  "orig_nbformat": 4
 },
 "nbformat": 4,
 "nbformat_minor": 2
}
